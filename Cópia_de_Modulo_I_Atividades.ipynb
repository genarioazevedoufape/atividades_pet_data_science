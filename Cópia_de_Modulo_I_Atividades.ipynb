{
  "cells": [
    {
      "cell_type": "markdown",
      "metadata": {
        "id": "view-in-github",
        "colab_type": "text"
      },
      "source": [
        "<a href=\"https://colab.research.google.com/github/genarioazevedoufape/atividades_pet_data_science/blob/main/C%C3%B3pia_de_Modulo_I_Atividades.ipynb\" target=\"_parent\"><img src=\"https://colab.research.google.com/assets/colab-badge.svg\" alt=\"Open In Colab\"/></a>"
      ]
    },
    {
      "cell_type": "code",
      "execution_count": null,
      "metadata": {
        "id": "AoLUQClZG8KY"
      },
      "outputs": [],
      "source": []
    },
    {
      "cell_type": "markdown",
      "metadata": {
        "id": "ExQ1xANUHAWK"
      },
      "source": [
        "**1. Faça um algoritmo para o jogo \"pedra, papel e tesoura\". O algoritmo deve receber a entrada do jogador 1 e a entrada do jogador 2. A saída deve ser uma mensagem dizendo qual jogador ganhou ou uma mensagem dizendo que deu empate ou uma mensagem dizendo que algum jogador colocou uma entrada incorreta.**\n",
        "\n",
        "Obs. Pesquise sobre as regras do jogo."
      ]
    },
    {
      "cell_type": "code",
      "execution_count": null,
      "metadata": {
        "colab": {
          "base_uri": "https://localhost:8080/"
        },
        "id": "Vf0H3x6wHok5",
        "outputId": "3b4d5242-399d-4d21-9ac3-513d8ae64f9c"
      },
      "outputs": [
        {
          "name": "stdout",
          "output_type": "stream",
          "text": [
            "Entre com pedra, papel ou tesoura\n",
            "\n",
            "Jogador 1: pedra\n",
            "Jogador 2: tesoura\n",
            "\n",
            "Resultado: Jogador 1 ganhou!!!\n",
            "Deseja jogar novamente? (S/N): n\n"
          ]
        }
      ],
      "source": [
        "def jokeyPow(jogador1, jogador2):\n",
        "    if jogador1 == jogador2:\n",
        "        return \"Empate!!!\"\n",
        "    elif (jogador1 == \"pedra\" and jogador2 == \"tesoura\") or \\\n",
        "         (jogador1 == \"tesoura\" and jogador2 == \"papel\") or \\\n",
        "         (jogador1 == \"papel\" and jogador2 == \"pedra\"):\n",
        "        return \"Jogador 1 ganhou!!!\"\n",
        "    elif (jogador2 == \"pedra\" and jogador1 == \"tesoura\") or \\\n",
        "         (jogador2 == \"tesoura\" and jogador1 == \"papel\") or \\\n",
        "         (jogador2 == \"papel\" and jogador1 == \"pedra\"):\n",
        "        return \"Jogador 2 ganhou!!!\"\n",
        "    else:\n",
        "        return \"Entrada inválida.\"\n",
        "\n",
        "while True:\n",
        "    print(\"Entre com pedra, papel ou tesoura\\n\")\n",
        "\n",
        "    jogador1 = input(\"Jogador 1: \").lower()\n",
        "    jogador2 = input(\"Jogador 2: \").lower()\n",
        "\n",
        "    print(f\"\\nResultado: {jokeyPow(jogador1, jogador2)}\")\n",
        "\n",
        "    jogar_novamente = input(\"Deseja jogar novamente? (S/N): \").lower()\n",
        "    if jogar_novamente != 's':\n",
        "        break"
      ]
    },
    {
      "cell_type": "markdown",
      "metadata": {
        "id": "BAEakJjSLCXq"
      },
      "source": [
        "**2. Faça um algoritmo (utilizando o conceito de funções) que recebe a temperatura em fahrenheit e converte para celsius.**"
      ]
    },
    {
      "cell_type": "code",
      "execution_count": null,
      "metadata": {
        "id": "tGlA3WhBH-Qc",
        "colab": {
          "base_uri": "https://localhost:8080/"
        },
        "outputId": "e2eacc3b-f299-46b5-fbae-01dad760f14e"
      },
      "outputs": [
        {
          "output_type": "stream",
          "name": "stdout",
          "text": [
            "Digite o valor em Fahrenheit: 100\n",
            "37.78 C\n"
          ]
        }
      ],
      "source": [
        "def convFahrenheitparaCelsius(f):\n",
        "    c = (f - 32) / 1.8\n",
        "    return round (c, 2)\n",
        "\n",
        "fahrenheit = float(input(\"Digite o valor em Fahrenheit: \"))\n",
        "\n",
        "print(f\"{convFahrenheitparaCelsius(fahrenheit)} C\")\n"
      ]
    },
    {
      "cell_type": "markdown",
      "metadata": {
        "id": "WNfgfZjLMvTi"
      },
      "source": [
        "**3. Faça um algoritmo que recebe 4 notas e retorne a media ponderada. A primeira nota tem peso 2, a segunda nota tem peso 4, a terceira nota tem peso 1 e a quarta nota tem peso 3.**  \n",
        "\n",
        "Obs. Não pode utilizar métodos prontos do python, crie sua própria lógica."
      ]
    },
    {
      "cell_type": "code",
      "execution_count": null,
      "metadata": {
        "id": "ILGhxWPZLTha",
        "colab": {
          "base_uri": "https://localhost:8080/"
        },
        "outputId": "1087f114-32b9-4f61-d34d-5940344dd46e"
      },
      "outputs": [
        {
          "output_type": "stream",
          "name": "stdout",
          "text": [
            "Digite a 1º nota: 10\n",
            "Digite a 2º nota: 10\n",
            "Digite a 3º nota: 10\n",
            "Digite a 4º nota: 1\n",
            "Média ponderada: 7.3\n"
          ]
        }
      ],
      "source": [
        "def mediaPonderada(notas, pesos):\n",
        "    somaNotas = 0\n",
        "    somaPesos = 0\n",
        "\n",
        "    for nota, peso in zip(notas, pesos):\n",
        "        somaNotas += peso * nota\n",
        "        somaPesos += peso\n",
        "\n",
        "    media = somaNotas / somaPesos\n",
        "    return media\n",
        "\n",
        "notas = []\n",
        "pesos = [2, 4, 1, 3]\n",
        "\n",
        "for nota in range(4):\n",
        "    nota = float(input(f\"Digite a {1+nota}º nota: \"))\n",
        "    notas.append(nota)\n",
        "\n",
        "\n",
        "\n",
        "print(f\"Média ponderada: {mediaPonderada(notas, pesos)}\")\n"
      ]
    },
    {
      "cell_type": "markdown",
      "metadata": {
        "id": "9gTQ2YiZOSOF"
      },
      "source": [
        "**4. Faça uma função que recebe uma lista de valores: [1, 7, 2, 10, 9, 5, 3, 4, 6, 8] e retorne os valores em ordem: [1, 2, 3, 4, 5, 6, 7, 8, 9, 10].**\n",
        "\n",
        "Obs. Não pode utilizar métodos prontos do python, crie sua própria lógica."
      ]
    },
    {
      "cell_type": "code",
      "execution_count": null,
      "metadata": {
        "id": "JrV_Xn9VNdwB",
        "colab": {
          "base_uri": "https://localhost:8080/"
        },
        "outputId": "4c9e0db8-7189-4ee6-a5dd-833609f18a32"
      },
      "outputs": [
        {
          "output_type": "stream",
          "name": "stdout",
          "text": [
            "\n",
            "Lista Ordenada: [1, 2, 3, 4, 5, 6, 7, 8, 9, 10]\n"
          ]
        }
      ],
      "source": [
        "def listaOrdenada(lista):\n",
        "    ordenados = []\n",
        "    while lista:\n",
        "        menor = lista[0]\n",
        "        for valor in lista:\n",
        "            if valor <= menor:\n",
        "                menor = valor\n",
        "        ordenados.append(menor)\n",
        "        lista.remove(menor)\n",
        "    return ordenados\n",
        "\n",
        "listaDeValores = [1, 7, 2, 10, 9, 5, 3, 4, 6, 8]\n",
        "print(f\"\\nLista Ordenada: {listaOrdenada(listaDeValores)}\")\n"
      ]
    },
    {
      "cell_type": "markdown",
      "metadata": {
        "id": "IciTtQwCQAOp"
      },
      "source": [
        "**5. Faça uma função que recebe um texto (exemplo logo abaixo) e retorna o texto sem os sinais de pontuação**\n",
        "\n",
        "**Exemplo de entrada:** \"O despertador toca. É hora de acordar! Levanto-me lentamente, espreguiçando-me. Olho pela janela: o sol está se levantando. Que belo dia! Preparo-me para mais uma jornada. Tomo um café da manhã reforçado: torradas, ovos e suco de laranja. Estou pronto para enfrentar o mundo.\"\n",
        "\n",
        "\n",
        "**Exemplo de saída:** \"O despertador toca É hora de acordar Levanto me lentamente espreguiçando me Olho pela janela o sol está se levantando  Que belo dia Preparo me para mais uma jornada Tomo um café da manhã reforçado torradas ovos e suco de laranja Estou pronto para enfrentar o mundo\""
      ]
    },
    {
      "cell_type": "code",
      "execution_count": null,
      "metadata": {
        "id": "dh1M8vNtP4zx",
        "colab": {
          "base_uri": "https://localhost:8080/"
        },
        "outputId": "a8774cdf-af2e-46e5-83b3-657ad1dbd969"
      },
      "outputs": [
        {
          "output_type": "stream",
          "name": "stdout",
          "text": [
            "O despertador toca É hora de acordar Levantome lentamente\n",
            "espreguiçandome Olho pela janela o sol está se levantando Que belo dia\n",
            "Preparome para mais uma jornada Tomo um café da manhã reforçado torradas\n",
            "ovos e suco de laranja Estou pronto para enfrentar o mundo\n"
          ]
        }
      ],
      "source": [
        "def removePontuacao(texto):\n",
        "  pontuacao = [\",\", \".\", \";\", \"!\", \"?\", \":\", \"-\", \"...\"]\n",
        "  textoSemPontuacao = \"\"\n",
        "\n",
        "  for caractere in texto:\n",
        "    if caractere not in pontuacao:\n",
        "      textoSemPontuacao +=caractere\n",
        "  return textoSemPontuacao\n",
        "\n",
        "texto ='''O despertador toca. É hora de acordar! Levanto-me lentamente,\n",
        "espreguiçando-me. Olho pela janela: o sol está se levantando. Que belo dia!\n",
        "Preparo-me para mais uma jornada. Tomo um café da manhã reforçado: torradas,\n",
        "ovos e suco de laranja. Estou pronto para enfrentar o mundo.'''\n",
        "\n",
        "print(removePontuacao(texto))\n"
      ]
    }
  ],
  "metadata": {
    "colab": {
      "provenance": [],
      "include_colab_link": true
    },
    "kernelspec": {
      "display_name": "Python 3",
      "name": "python3"
    },
    "language_info": {
      "name": "python"
    }
  },
  "nbformat": 4,
  "nbformat_minor": 0
}